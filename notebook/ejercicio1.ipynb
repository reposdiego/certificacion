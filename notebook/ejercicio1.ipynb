{
  "nbformat": 4,
  "nbformat_minor": 0,
  "metadata": {
    "colab": {
      "provenance": [],
      "authorship_tag": "ABX9TyMkSY4JEuwB+Wf8S387rWgZ",
      "include_colab_link": true
    },
    "kernelspec": {
      "name": "python3",
      "display_name": "Python 3"
    },
    "language_info": {
      "name": "python"
    }
  },
  "cells": [
    {
      "cell_type": "markdown",
      "metadata": {
        "id": "view-in-github",
        "colab_type": "text"
      },
      "source": [
        "<a href=\"https://colab.research.google.com/github/reposdiego/certificacion/blob/master/notebook/ejercicio1.ipynb\" target=\"_parent\"><img src=\"https://colab.research.google.com/assets/colab-badge.svg\" alt=\"Open In Colab\"/></a>"
      ]
    },
    {
      "cell_type": "code",
      "source": [
        "nombre= input (\"ingrese nombre\")\n",
        "apellido = input (\"ingrese apellido\")\n",
        "telefono =input (\"ingrese telefono\")\n",
        "\n",
        "print(\"informacion basica de usuario:\",nombre,apellido,telefono)"
      ],
      "metadata": {
        "id": "YqO2vjZqec9S"
      },
      "execution_count": null,
      "outputs": []
    },
    {
      "cell_type": "code",
      "source": [
        "peso = float(input(\"Ingresa tu peso en kg: \"))\n",
        "altura = float(input(\"Ingresa tu altura en metros: \"))\n",
        "\n",
        "imc = peso / (altura ** 2)\n",
        "\n",
        "\n",
        "print(\" índice de masa corporal es\", imc)"
      ],
      "metadata": {
        "id": "_dk9zL5le59q"
      },
      "execution_count": null,
      "outputs": []
    },
    {
      "cell_type": "code",
      "source": [
        "nombre= input (\"ingrese nombre: \")\n",
        "codigo = input (\"ingrese codigo: \")\n",
        "\n",
        "horast= int(input(\" digite horas trabajadas :\"))\n",
        "vhora= int(input(\" digite valor horas trabajadas :\"))\n",
        "\n",
        "total = horast * vhora\n",
        "print (\"informacion empleado y pago: \",nombre,codigo, \"el pago horas trabajadas :\" ,total )"
      ],
      "metadata": {
        "id": "r4bjnCL7hhwm"
      },
      "execution_count": null,
      "outputs": []
    },
    {
      "cell_type": "code",
      "source": [
        "n = int(input(\"Introduce un número entero: \"))\n",
        "suma = n * (n + 1) / 2\n",
        "print(\"La suma de los primeros números enteros desde 1 hasta \" + str(n) + \" es \" + str(suma))"
      ],
      "metadata": {
        "id": "meMD9tl4fm9E"
      },
      "execution_count": null,
      "outputs": []
    }
  ]
}